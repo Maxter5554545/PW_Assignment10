{
 "cells": [
  {
   "cell_type": "code",
   "execution_count": 10,
   "id": "d0bd2294-2d33-494b-bd77-430d692e2666",
   "metadata": {},
   "outputs": [
    {
     "name": "stdout",
     "output_type": "stream",
     "text": [
      "Abstraction is a concept in Object Oriented Programming(O.O.Ps) which hides complex implemetation & shows the desired implementation of a programm.\n",
      "\n",
      "Name: Mrinal\n",
      "Address: Anand nagar colony kandwa\n",
      "Phone number: 9306904920\n"
     ]
    }
   ],
   "source": [
    "# Q1. What is Abstraction in OOps? Explain with an example.\n",
    "\n",
    "print(\"Abstraction is a concept in Object Oriented Programming(O.O.Ps) which hides complex implemetation & shows the desired implementation of a programm.\\n\")\n",
    "\n",
    "#Example \n",
    "import abc\n",
    "\n",
    "class example(abc.ABC):\n",
    "    \n",
    "    @abc.abstractmethod\n",
    "    def Name(self):\n",
    "        pass\n",
    "    \n",
    "    @abc.abstractmethod\n",
    "    def Address(self):\n",
    "        pass\n",
    "    \n",
    "    @abc.abstractmethod\n",
    "    def phoneNumber(self):\n",
    "        pass\n",
    "    \n",
    "class example2(example):\n",
    "    \n",
    "    def Name(self):\n",
    "        return \"Mrinal\"\n",
    "    \n",
    "    def Address(self):\n",
    "        return \"Anand nagar colony kandwa\"\n",
    "    \n",
    "    def phoneNumber(self):\n",
    "        return 9306904920\n",
    "\n",
    "example_object = example2()\n",
    "\n",
    "print(f\"Name: {example_object.Name()}\\nAddress: {example_object.Address()}\\nPhone number: {example_object.phoneNumber()}\")"
   ]
  },
  {
   "cell_type": "code",
   "execution_count": 41,
   "id": "486cc200-4c7f-4e01-a606-89b317a7193e",
   "metadata": {},
   "outputs": [
    {
     "name": "stdout",
     "output_type": "stream",
     "text": [
      "Encapsulation: Encapsulation creates a layers by which cannot get overall access of the code it only gets the important\n",
      "data needed to be filled.\n",
      "Abstraction: Abstraction hides the complex implementation & shows the desired implementation of the programm.\n",
      "\n",
      "\n",
      "['Passwords', ('ramesh', 'ramesh ka code')]\n",
      "\n",
      "Meena Report\n",
      "Roll No. :8942355876\n",
      "Marks: 99%\n"
     ]
    }
   ],
   "source": [
    "# Q2. Differentiate between Abstraction and Encapsulation. Explain with an example.\n",
    "print('''Encapsulation: Encapsulation creates a layers by which cannot get overall access of the code it only gets the important\n",
    "data needed to be filled.\n",
    "Abstraction: Abstraction hides the complex implementation & shows the desired implementation of the programm.\\n\\n''')\n",
    "\n",
    "#example for Encapsulation\n",
    "\n",
    "class password:\n",
    "    def __init__(self, passwords):\n",
    "        self.__passwords = [passwords]\n",
    "    \n",
    "    def Ramesh(self, ramesh):\n",
    "        self.__passwords.append((\"ramesh\", ramesh))\n",
    "\n",
    "    def Suresh(self, suresh):\n",
    "        self.__passwords.append((\"Suresh\", suresh))\n",
    "        \n",
    "    def see(self):\n",
    "        return self.__passwords\n",
    "    \n",
    "passwordM = password(\"Passwords\")\n",
    "passwordM.Ramesh(\"ramesh ka code\")\n",
    "print(f\"{passwordM.see()}\\n\")\n",
    "\n",
    "#example for Abstraction \n",
    "import abc\n",
    "\n",
    "class Report(abc.ABC):\n",
    "    \n",
    "    @abc.abstractmethod\n",
    "    def Name(self):\n",
    "        pass\n",
    "    \n",
    "    @abc.abstractmethod\n",
    "    def rollNO(self):\n",
    "        pass\n",
    "    \n",
    "    @abc.abstractmethod\n",
    "    def Marks(self):\n",
    "        pass\n",
    "\n",
    "class Meena(Report):\n",
    "    \n",
    "    def Name(self):\n",
    "        return \"Meena\"\n",
    "    \n",
    "    def rollNO(self):\n",
    "        return 8942355876\n",
    "    \n",
    "    def Marks(self):\n",
    "        return \"99\" + \"%\"\n",
    "\n",
    "meena = Meena()\n",
    "\n",
    "print(f\"{meena.Name()} Report\\nRoll No. :{meena.rollNO()}\\nMarks: {meena.Marks()}\")"
   ]
  },
  {
   "cell_type": "code",
   "execution_count": 42,
   "id": "85f8d6f0-83d9-4c5d-952f-2066fa006e45",
   "metadata": {},
   "outputs": [
    {
     "name": "stdout",
     "output_type": "stream",
     "text": [
      "abc module is also called abstraction method module in python which used in abstraction concepts in OOPs for hiding the complex implemetation or code & shows the simple code of the program.\n"
     ]
    }
   ],
   "source": [
    "# Q3. What is abc module in python? Why is it used?\n",
    "\n",
    "print(\"abc module is also called abstraction method module in python which used in abstraction concepts in OOPs for hiding the complex implemetation or code & shows the simple code of the program.\")"
   ]
  },
  {
   "cell_type": "code",
   "execution_count": 1,
   "id": "5fca932b-e1fd-4c46-ad27-433e7740d41b",
   "metadata": {},
   "outputs": [
    {
     "name": "stdout",
     "output_type": "stream",
     "text": [
      "h9\n"
     ]
    }
   ],
   "source": [
    "# Q4. How can we achieve data abstraction?\n",
    "\n",
    "print(''' We can aachieve data by following:-\n",
    "First we will create a parent class in that we set an abstraction method through which we can use that method to other child \n",
    "classes now, we use the encapsulation concept for hiding the complex implemenatations & only showing user the simple implementations\n",
    "Now, by assigning the derived class to desired objects we can call the methods which was abstracted from the parent class.''')"
   ]
  },
  {
   "cell_type": "code",
   "execution_count": null,
   "id": "41ee87cc-0a42-4477-ac2b-ef6613ced358",
   "metadata": {},
   "outputs": [],
   "source": [
    "# Q5. Can we create an instance of an abstract class? Explain your answer.\n",
    "\n",
    "print(\"Yes! we can create instances of an abstract class by importing an abc(abstracting base class) module in python in that we can use abc.abstractmethod to parent class after that we can create many child or derived class and inherit the properties to it. \")\n",
    "#For example:\n",
    "\n",
    "#In this I'm importing abc module to python\n",
    "import abc\n",
    "\n",
    "class Report(abc.ABC): #I'm creating a parent class in that I'll be using abstract base class\n",
    "    \n",
    "#Now, I'm decorating the abc by giving abstactmethod this will help me to abstract the methods to other child or derived classes.    \n",
    "    @abc.abstractmethod \n",
    "    def Name(self):\n",
    "        pass\n",
    "    \n",
    "    @abc.abstractmethod\n",
    "    def rollNO(self):\n",
    "        pass\n",
    "    \n",
    "    @abc.abstractmethod\n",
    "    def Marks(self):\n",
    "        pass\n",
    "#After this I'm creating a child or derived class so that It can inherit the properties of parent class.\n",
    "class Meena(Report):\n",
    "    \n",
    "#With the help of abstraction method. Now, My child class can inherit the methods of the parent class\n",
    "    def Name(self):\n",
    "        return \"Meena\"\n",
    "    \n",
    "    def rollNO(self):\n",
    "        return 8942355876\n",
    "    \n",
    "    def Marks(self):\n",
    "        return \"99\" + \"%\"\n",
    "\n",
    "#For testing that my programming is running well or not I'll create an object assiging the child class\n",
    "meena = Meena()\n",
    "#printing the  methods of child class which was inherited by parent class\n",
    "print(f\"{meena.Name()} Report\\nRoll No. :{meena.rollNO()}\\nMarks: {meena.Marks()}\")\n",
    "#....... It is working in correct  condition now the rest is history....."
   ]
  }
 ],
 "metadata": {
  "kernelspec": {
   "display_name": "Python 3 (ipykernel)",
   "language": "python",
   "name": "python3"
  },
  "language_info": {
   "codemirror_mode": {
    "name": "ipython",
    "version": 3
   },
   "file_extension": ".py",
   "mimetype": "text/x-python",
   "name": "python",
   "nbconvert_exporter": "python",
   "pygments_lexer": "ipython3",
   "version": "3.10.8"
  }
 },
 "nbformat": 4,
 "nbformat_minor": 5
}
